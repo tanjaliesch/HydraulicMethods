{
 "cells": [
  {
   "cell_type": "markdown",
   "metadata": {},
   "source": [
    "# Pumping Test Evaluation - Theis Recovery"
   ]
  },
  {
   "cell_type": "markdown",
   "metadata": {},
   "source": [
    "*Notebook by Tanja Liesch partly based on content by Christian Hill: https://scipython.com/blog/linear-and-non-linear-fitting-of-the-theis-equation/*"
   ]
  },
  {
   "cell_type": "markdown",
   "metadata": {},
   "source": [
    "## The Theis equation\n",
    "The _drawdown_ or change in hydraulic head, $s$ (a measure of the water pressure above some geodetic datum) a distance $r$ from a well at time $t$ from which water is being pumped at a constant rate, $Q$, can be modelled using the _Theis_ equation,\n",
    "\n",
    "$$\n",
    "s(u) = \\frac{Q}{4\\pi T}W(u), \\quad \\mathrm{where}\\quad u = \\frac{r^2S}{4Tt}.\n",
    "$$\n",
    "\n",
    "Here $S$ is the aquifer storage coefficient (volume of water released per unit decrease in $H$ per unit area) and $T$ is the transmissivity (a measure of how much water is transported horizontally per unit time). The _Well Function_, $W(u)$ is simply the exponential integral, $E_1(u).$\n",
    "\n",
    "In practice, it is often more convenient to use an approximation to the exponential integral: $W(u) \\approx -\\gamma - \\ln u$ where $\\gamma=0.577215664\\cdots$ is the Euler-Mascheroni constant. This results in an expression for $s(u)$ known as the Cooper-Jacob equation:\n",
    "\n",
    "$$\n",
    "s(u) = -\\frac{Q}{4\\pi T}\\left(\\gamma + \\ln u \\right).\n",
    "$$\n"
   ]
  },
  {
   "cell_type": "markdown",
   "metadata": {},
   "source": [
    "## Principle of Superposition\n",
    "\n",
    "If the drawdown cone in an aquifer under the effect of a pumping test is superimposed by another drawdown or injection, the resulting drawdown is calculated as the sum of the drawdowns induced by each pumping well separately. Each increment of the pumping-well discharge rate creates an additional term in the sum of drawdown values. For injection or recharge wells, the same applies, only with a the opposite sign (impression = negative drawdown).\n",
    "\n",
    "$$\n",
    "s_r = s_1 + s_2 + s_3 + ...\n",
    "$$\n",
    "\n",
    "The analytical solution for describing water-level recovery after a pumping test\n",
    "is constructed based on the superposition principle, which, in\n",
    "this case, determines the water-level changes in a well as the sum of drawdown\n",
    "values corresponding to two periods: pumping from the well with a discharge rate Q with time $t$ (time after start of pumping) and (imaginary) injection in the same well, with the same injection rate $-Q$ starting at time $t'$ (time after pumping stop) - so the net discharge rate is zero.\n",
    "\n",
    "$$\n",
    "s_r = s + s' = \\frac{Q}{4\\pi T}W(u) + \\frac{-Q}{4\\pi T}W(u')\n",
    "$$\n",
    "\n",
    "where \n",
    "\n",
    "$$\n",
    "u = \\frac{r^2S}{4Tt} \\quad \\mathrm{and}\\quad u' = \\frac{r^2S}{4Tt'}\n",
    "$$\n"
   ]
  },
  {
   "cell_type": "markdown",
   "metadata": {},
   "source": [
    "Applying the Cooper-Jacob approximation leads to\n",
    "\n",
    "$$\n",
    "s_r = \\frac{Q}{4\\pi T}\\left(-0.5772 - \\ln u - \\left(-0.5772 - \\ln u' \\right)\\right)\n",
    "$$\n",
    "$$\n",
    "= \\frac{Q}{4\\pi T}\\ln \\frac{u'}{u}\n",
    "$$\n",
    "\n",
    "or \n",
    "\n",
    "$$\n",
    "s_r = \\frac{2.30 Q}{4\\pi T}\\lg\\frac{t}{t'}\n",
    "$$\n"
   ]
  },
  {
   "cell_type": "markdown",
   "metadata": {},
   "source": [
    "The following code uses `scipy.special.exp1` to calculate some sample values, returning $s_r$ for parameters $Q$, $S$, $T$, $t$ and $t'$ (for coding reasons u1 is used for u' and t1 for t')."
   ]
  },
  {
   "cell_type": "code",
   "execution_count": 1,
   "metadata": {},
   "outputs": [],
   "source": [
    "import numpy as np\n",
    "import matplotlib.pyplot as plt\n",
    "from scipy.special import exp1\n",
    "\n",
    "def calc_u(r, S, T, t):\n",
    "    \"\"\"Calculate and return the dimensionless time parameter, u.\"\"\"\n",
    "\n",
    "    return r**2 * S / 4 / T / t\n",
    "\n",
    "def calc_u1(r, S, T, t1):\n",
    "    \"\"\"Calculate and return the dimensionless time parameter, u.\"\"\"\n",
    "\n",
    "    return r**2 * S / 4 / T / t1"
   ]
  },
  {
   "cell_type": "code",
   "execution_count": 2,
   "metadata": {},
   "outputs": [],
   "source": [
    "def theis_drawdown(t, S, T, Q, r):\n",
    "    \"\"\"Calculate and return the drawdown s(u) for parameters S, T.\n",
    "\n",
    "    This version uses the Theis equation, s(u) = Q * W(u) / (4.pi.T),\n",
    "    where W(u) is the Well function for u = Sr^2 / (4Tt).\n",
    "    S is the aquifer storage coefficient,\n",
    "    T is the transmissivity (m2/s),\n",
    "    r is the distance from the well (m), and\n",
    "    Q is the pumping rate (m3/s).\n",
    "\n",
    "    \"\"\"\n",
    "\n",
    "    u = calc_u(r, S, T, t)\n",
    "    s_theis = Q/4/np.pi/T * exp1(u)\n",
    "    return s_theis\n",
    "\n",
    "def theis_impression(t1, S, T, Q, r):\n",
    "    \"\"\"Calculate and return the impression s(u) for parameters S, T.\n",
    "\n",
    "    This version uses the Theis equation, s(u) = Q * W(u) / (4.pi.T),\n",
    "    where W(u) is the Well function for u = Sr^2 / (4Tt).\n",
    "    S is the aquifer storage coefficient,\n",
    "    T is the transmissivity (m2/s),\n",
    "    r is the distance from the well (m), and\n",
    "    Q is the pumping rate (m3/s).\n",
    "\n",
    "    \"\"\"\n",
    "\n",
    "    u1 = calc_u1(r, S, T, t1)\n",
    "    s1_theis = - Q/4/np.pi/T * exp1(u1)\n",
    "    return s1_theis\n",
    "\n",
    "def theis_recovery(s_theis, s1_theis):\n",
    "    \"\"\"Calculate and return the recovery as the superposition\n",
    "    of drawdown and impression.\n",
    "\n",
    "    \"\"\"\n",
    "    s_r = s_theis +  s1_theis\n",
    "    return s_r"
   ]
  },
  {
   "cell_type": "markdown",
   "metadata": {},
   "source": [
    "Let's simulate a curve for $s(t)$ for a fixed distance from the well, $r=10\\;\\mathrm{m}$, and pumping rate $Q = 0.002\\;\\mathrm{m^3/s}$ for a well with parameters $S = 0.001$ and $T = 0.001\\;\\mathrm{m^2/s}$. Pumping was stopped after 1200 seconds.\n",
    "\n",
    "We'll add a bit of synthetic normally-distributed noise to get some realistic data simulating measurement errors (since the noise is random, slightly different values will be produced each time you run the code)."
   ]
  },
  {
   "cell_type": "code",
   "execution_count": 3,
   "metadata": {},
   "outputs": [
    {
     "name": "stdout",
     "output_type": "stream",
     "text": [
      "[0.35612605 0.31737872 0.29175703 0.24588605 0.21477686 0.18984147\n",
      " 0.16979847 0.15512078 0.14206432 0.13177073 0.12242567 0.10883087]\n"
     ]
    }
   ],
   "source": [
    "Q = 0.002       # Pumping rate from well (m3/s)\n",
    "r = 10          # Distance from well (m)\n",
    "\n",
    "# Time grid, seconds\n",
    "t = np.array([1320, 1360, 1400, 1500, 1600, 1700, 1800, 1900, 2000, 2100, 2200, 2400 ])\n",
    "t1 = np.array([120, 160, 200, 300, 400, 500, 600, 700, 800, 900, 1000, 1200])\n",
    "\n",
    "# Calculate some synthetic data to fit\n",
    "S, T = 0.001, 0.001\n",
    "s = theis_drawdown(t, S, T, Q, r)\n",
    "s1 = theis_impression(t1, S, T, Q, r)\n",
    "s_r = theis_recovery(s, s1)\n",
    "\n",
    "# Add some noise\n",
    "noise_sd = 5.e-3\n",
    "s_r += s_r * noise_sd * np.random.randn(s.shape[0])\n",
    "print(s_r)"
   ]
  },
  {
   "cell_type": "code",
   "execution_count": 4,
   "metadata": {},
   "outputs": [
    {
     "data": {
      "image/png": "[encoded data removed]",
      "text/plain": [
       "<Figure size 432x288 with 1 Axes>"
      ]
     },
     "metadata": {
      "needs_background": "light"
     },
     "output_type": "display_data"
    }
   ],
   "source": [
    "# Plot the data\n",
    "plt.plot(t1, s_r, 'o')\n",
    "plt.xlabel(\"t' (s)\")\n",
    "plt.ylabel(\"$s_r$ (m)\")\n",
    "plt.show()"
   ]
  },
  {
   "cell_type": "markdown",
   "metadata": {},
   "source": [
    "## Fitting the data"
   ]
  },
  {
   "cell_type": "markdown",
   "metadata": {},
   "source": [
    "### Linear least squares fit\n",
    "\n",
    "The Theis and Jacob recovery equation produces a straight-line plot, since:\n",
    "\n",
    "$$\n",
    "s_r = \\frac{2.30 Q}{4\\pi T}\\lg\\frac{t}{t'}\n",
    "$$\n",
    "\n",
    "So a plot of $s_r$ against $\\lg\\frac{t}{t'}$ is a straight line with the gradient\n",
    "$$\n",
    "m = \\frac{2.30 Q}{4\\pi T}\n",
    "$$\n",
    "hence,\n",
    "$$\n",
    "T = \\frac{2.30 Q}{4\\pi m}\n",
    "$$"
   ]
  },
  {
   "cell_type": "markdown",
   "metadata": {},
   "source": [
    "The most straightforward approach is to use NumPy's [`polyfit`](https://docs.scipy.org/doc/numpy/reference/generated/numpy.polyfit.html) routine to fit a first-order polynomial (i.e. a straight line) through the data points $(s, \\lg \\frac{t}{t'})$:"
   ]
  },
  {
   "cell_type": "code",
   "execution_count": 5,
   "metadata": {},
   "outputs": [
    {
     "data": {
      "image/png": "[encoded data removed]",
      "text/plain": [
       "<Figure size 432x288 with 1 Axes>"
      ]
     },
     "metadata": {
      "needs_background": "light"
     },
     "output_type": "display_data"
    },
    {
     "name": "stdout",
     "output_type": "stream",
     "text": [
      "m = 0.33328608706167534, c = 0.010270943292574886\n",
      "rms residual = 0.006764472721657987\n"
     ]
    }
   ],
   "source": [
    "# fit s, lg(t/t')\n",
    "t2 = t/t1\n",
    "lgt = np.log10(t2)\n",
    "coeffs = np.polyfit(np.log10(t2), s_r, 1)\n",
    "\n",
    "# plot the data and the fitted straight line\n",
    "plt.plot(lgt, s_r, ls='', marker='o')\n",
    "fit_line = np.poly1d(coeffs)(lgt)\n",
    "plt.plot(lgt, fit_line)\n",
    "plt.show()\n",
    "\n",
    "# Output the fitted coefficients and report the rms residual\n",
    "print('m = {}, c = {}'.format(*coeffs))\n",
    "rms_residual = np.sqrt(np.sum((fit_line - s_r)**2))\n",
    "print('rms residual =', rms_residual)"
   ]
  },
  {
   "cell_type": "markdown",
   "metadata": {},
   "source": [
    "For aquifers without boundaries, c should be zero or close to it. The parameter $T$ which best fits the data is found to be as follows:"
   ]
  },
  {
   "cell_type": "code",
   "execution_count": 6,
   "metadata": {},
   "outputs": [
    {
     "name": "stdout",
     "output_type": "stream",
     "text": [
      "T = 0.001 m2/s\n"
     ]
    }
   ],
   "source": [
    "m = coeffs[0] # read m value from coeffs\n",
    "\n",
    "Tfit = 2.3 * Q / 4 / np.pi / m\n",
    "\n",
    "print('T = %.3f m2/s' %(Tfit))"
   ]
  },
  {
   "cell_type": "markdown",
   "metadata": {},
   "source": [
    "The same analysis can be performed using [`numpy.linalg.lstsq`](https://docs.scipy.org/doc/numpy/reference/generated/numpy.linalg.lstsq.html) which returns the sum of the square residuals along with other information about the fit:"
   ]
  },
  {
   "cell_type": "code",
   "execution_count": 7,
   "metadata": {},
   "outputs": [
    {
     "name": "stdout",
     "output_type": "stream",
     "text": [
      "T = 0.001 m2/s\n",
      "rms residual = 0.007\n"
     ]
    }
   ],
   "source": [
    "A = np.vstack((lgt, np.ones_like(t2))).T\n",
    "x, sq_resid, rank, sing_vals = np.linalg.lstsq(A, s_r, rcond=None)\n",
    "m, c = x\n",
    "Tfit = 2.3 * Q / 4 / np.pi / m\n",
    "print('T = %.3f m2/s' %(Tfit))\n",
    "print('rms residual = %.3f' %(np.sqrt(sq_resid[0])))"
   ]
  },
  {
   "cell_type": "markdown",
   "metadata": {},
   "source": [
    "#### Analysing a real world recovery test\n",
    "\n",
    "If we want to analyse a real world test, we must replace the synthetic data values we created above with the real values, along with the correct pumping rate $Q$ and distance to pumping well $r$. Here is an example (values from excercise a):"
   ]
  },
  {
   "cell_type": "code",
   "execution_count": 10,
   "metadata": {},
   "outputs": [],
   "source": [
    "Q = 0.0267       # Pumping rate of well (m3/s)\n",
    "r = 27.4         # Distance from well (m)\n",
    "\n",
    "t = np.array([14765,14823,14871,14920,15235,15332,15600,15810,16180,16400,17300,17900,18560,19220,20700,23300])\n",
    "t1 = np.array([165,223,271,320,635,732,1000,1210,1580,1800,2700,3300,3960,4620,6100,8700])\n",
    "s_r = np.array([1.03,0.95,0.90,0.85,0.69,0.65,0.59,0.55,0.47,0.44,0.35,0.30,0.26,0.23,0.17,0.09])"
   ]
  },
  {
   "cell_type": "markdown",
   "metadata": {},
   "source": [
    "We use the Theis recovery curve fit from above again:"
   ]
  },
  {
   "cell_type": "code",
   "execution_count": 11,
   "metadata": {},
   "outputs": [
    {
     "data": {
      "image/png": "[encoded data removed]",
      "text/plain": [
       "<Figure size 432x288 with 1 Axes>"
      ]
     },
     "metadata": {
      "needs_background": "light"
     },
     "output_type": "display_data"
    },
    {
     "name": "stdout",
     "output_type": "stream",
     "text": [
      "m = 0.603310488049656, c = -0.14442129121686528\n",
      "rms residual = 0.039857889607413766\n",
      "T = 0.008 m2/s\n"
     ]
    }
   ],
   "source": [
    "from scipy.optimize import curve_fit\n",
    "\n",
    "# fit s, lg(t/t')\n",
    "t2 = t/t1\n",
    "lgt = np.log10(t2)\n",
    "coeffs = np.polyfit(np.log10(t2), s_r, 1)\n",
    "\n",
    "# plot the data and the fitted straight line\n",
    "plt.plot(lgt, s_r, ls='', marker='o')\n",
    "fit_line = np.poly1d(coeffs)(lgt)\n",
    "plt.plot(lgt, fit_line)\n",
    "plt.show()\n",
    "\n",
    "# Output the fitted coefficients and report the rms residual\n",
    "print('m = {}, c = {}'.format(*coeffs))\n",
    "rms_residual = np.sqrt(np.sum((fit_line - s_r)**2))\n",
    "print('rms residual =', rms_residual)\n",
    "\n",
    "m = coeffs[0]\n",
    "Tfit = 2.30 * Q / 4 / np.pi / m\n",
    "print('T = %.3f m2/s' %(Tfit))\n",
    "\n"
   ]
  },
  {
   "cell_type": "markdown",
   "metadata": {},
   "source": [
    "We now reformat the plot, so that the x-axis is formated in log-style and we can see the intersection of the fit line with the x-axis better:"
   ]
  },
  {
   "cell_type": "code",
   "execution_count": 10,
   "metadata": {},
   "outputs": [
    {
     "data": {
      "image/png": "[encoded data removed]",
      "text/plain": [
       "<Figure size 432x288 with 1 Axes>"
      ]
     },
     "metadata": {
      "needs_background": "light"
     },
     "output_type": "display_data"
    },
    {
     "name": "stdout",
     "output_type": "stream",
     "text": [
      "T = 0.008 m2/s\n"
     ]
    }
   ],
   "source": [
    "#Plot in nicer format (log x-axis)\n",
    "fig = plt.figure()\n",
    "ax = fig.add_subplot(111)\n",
    "ax.set(xlabel=\"t/t'\", ylabel='$s_r$ (m)', xscale='log',xlim=(1e0,1e2))\n",
    "ax.grid(which='minor', alpha=0.2)\n",
    "ax.grid(which='major', alpha=0.5)\n",
    "ax.plot(t2,s_r, 'o')\n",
    "fit_line = np.poly1d(coeffs)(lgt)\n",
    "ax.plot(t2, fit_line)\n",
    "plt.show()\n",
    "\n",
    "Tfit = 2.30 * Q / 4 / np.pi / m\n",
    "print('T = %.3f m2/s' %(Tfit))"
   ]
  },
  {
   "cell_type": "markdown",
   "metadata": {},
   "source": [
    "In comparison to the manual analysis (compare solution in pdf file), the gradient of the line fit is a bit higher (0.60 vs. 0.58), resulting in a slightly bigger value for $T$. The intersection point is about the same as in the manual solution at about 2."
   ]
  }
 ],
 "metadata": {
  "anaconda-cloud": {},
  "kernelspec": {
   "display_name": "Python 3 (ipykernel)",
   "language": "python",
   "name": "python3"
  },
  "language_info": {
   "codemirror_mode": {
    "name": "ipython",
    "version": 3
   },
   "file_extension": ".py",
   "mimetype": "text/x-python",
   "name": "python",
   "nbconvert_exporter": "python",
   "pygments_lexer": "ipython3",
   "version": "3.9.7"
  }
 },
 "nbformat": 4,
 "nbformat_minor": 4
}
