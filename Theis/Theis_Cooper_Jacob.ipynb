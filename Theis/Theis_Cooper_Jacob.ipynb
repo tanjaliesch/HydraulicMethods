{
 "cells": [
  {
   "cell_type": "markdown",
   "metadata": {},
   "source": [
    "# Pumping Test Evaluation - Instationary Phase after Theis and Cooper-Jacob with linear and non-linear fitting in Python"
   ]
  },
  {
   "cell_type": "markdown",
   "metadata": {},
   "source": [
    "*This notebook is based on Christian Hill's blogpost and notebook: https://scipython.com/blog/linear-and-non-linear-fitting-of-the-theis-equation/, modifications by Tanja Liesch*"
   ]
  },
  {
   "cell_type": "markdown",
   "metadata": {},
   "source": [
    "## The Theis equation\n",
    "The _drawdown_ or change in hydraulic head, $s$ (a measure of the water pressure above some geodetic datum) a distance $r$ from a well at time $t$ from which water is being pumped at a constant rate, $Q$, can be modelled using the _Theis_ equation,\n",
    "$$\n",
    "s(u) = \\frac{Q}{4\\pi T}W(u), \\quad \\mathrm{where}\\quad u = \\frac{r^2S}{4Tt}.\n",
    "$$\n",
    "Here $S$ is the aquifer storage coefficient (volume of water released per unit decrease in $H$ per unit area) and $T$ is the transmissivity (a measure of how much water is transported horizontally per unit time). The _Well Function_, $W(u)$ is simply the exponential integral, $E_1(u).$\n",
    "\n",
    "In practice, it is often more convenient to use an approximation to the exponential integral: $W(u) \\approx -\\gamma - \\ln u$ where $\\gamma=0.577215664\\cdots$ is the Euler-Mascheroni constant. This results in an expression for $s(u)$ known as the Cooper-Jacob equation:\n",
    "$$\n",
    "s(u) = -\\frac{Q}{4\\pi T}\\left(\\gamma + \\ln u \\right).\n",
    "$$\n"
   ]
  },
  {
   "cell_type": "markdown",
   "metadata": {},
   "source": [
    "The following code uses `scipy.special.exp1` to calculate the full Theis equation, returning $s(u)$ for parameters $Q$, $S$ and $T$."
   ]
  },
  {
   "cell_type": "code",
   "execution_count": 1,
   "metadata": {},
   "outputs": [],
   "source": [
    "import numpy as np\n",
    "import matplotlib.pyplot as plt\n",
    "from scipy.special import exp1\n",
    "\n",
    "def calc_u(r, S, T, t):\n",
    "    \"\"\"Calculate and return the dimensionless time parameter, u.\"\"\"\n",
    "\n",
    "    return r**2 * S / 4 / T / t"
   ]
  },
  {
   "cell_type": "code",
   "execution_count": 2,
   "metadata": {},
   "outputs": [],
   "source": [
    "def theis_drawdown(t, S, T, Q, r):\n",
    "    \"\"\"Calculate and return the drawdown s(u) for parameters S, T.\n",
    "\n",
    "    This version uses the Theis equation, s(u) = Q * W(u) / (4.pi.T),\n",
    "    where W(u) is the Well function for u = Sr^2 / (4Tt).\n",
    "    S is the aquifer storage coefficient,\n",
    "    T is the transmissivity (m2/s),\n",
    "    r is the distance from the well (m), and\n",
    "    Q is the pumping rate (m3/s).\n",
    "\n",
    "    \"\"\"\n",
    "\n",
    "    u = calc_u(r, S, T, t)\n",
    "    s_theis = Q/4/np.pi/T * exp1(u)\n",
    "    return s_theis"
   ]
  },
  {
   "cell_type": "markdown",
   "metadata": {},
   "source": [
    "Let's simulate a curve for $s(t)$ for a fixed distance from the well, $r=10\\;\\mathrm{m}$, and pumping rate $Q = 0.002\\;\\mathrm{m^3/s}$ for a well with parameters $S = 0.001$ and $T = 0.001\\;\\mathrm{m^2/s}$. We'll add a bit of synthetic normally-distributed noise to get some realistic data simulating measurement errors (since the noise is random, slightly different values will be produced each time you run the code)."
   ]
  },
  {
   "cell_type": "code",
   "execution_count": 3,
   "metadata": {},
   "outputs": [],
   "source": [
    "Q = 0.002       # Pumping rate from well (m3/s)\n",
    "r = 10          # Distance from well (m)\n",
    "\n",
    "# Time grid, seconda.\n",
    "t = np.array([20, 40, 80, 120, 160, 200, 300, 400, 500, 600, 700, 800, 900, 1000, 1200])\n",
    "\n",
    "# Use these for a better fit of S with the Cooper-Jacob approximation, see below\n",
    "#t = np.array([160, 200, 300, 400, 500, 600, 700, 800, 900, 1000, 1200])\n",
    "\n",
    "\n",
    "# Calculate some synthetic data to fit.\n",
    "S, T = 0.001, 0.001\n",
    "s = theis_drawdown(t, S, T, Q, r)\n",
    "# Add some noise.\n",
    "noise_sd = 1.e-2\n",
    "s += s * noise_sd * np.random.randn(s.shape[0])\n",
    "print(s)"
   ]
  },
  {
   "cell_type": "code",
   "execution_count": 4,
   "metadata": {},
   "outputs": [
    {
     "data": {
      "image/png": "[encoded data removed]",
      "text/plain": [
       "<Figure size 432x288 with 1 Axes>"
      ]
     },
     "metadata": {
      "needs_background": "light"
     },
     "output_type": "display_data"
    }
   ],
   "source": [
    "# Plot the data\n",
    "plt.plot(t, s, 'x')\n",
    "plt.xlabel(r'$t\\;\\mathrm{(s)}$')\n",
    "plt.ylabel(r'$s\\;\\mathrm{(m)}$')\n",
    "plt.show()"
   ]
  },
  {
   "cell_type": "markdown",
   "metadata": {},
   "source": [
    "## Fitting the data"
   ]
  },
  {
   "cell_type": "markdown",
   "metadata": {},
   "source": [
    "### Linear least squares fit\n",
    "\n",
    "It is often the case that $s$ can be measured over time at a fixed distance from the well, $r$, for a known pumping rate $Q$, and it is required that the parameters $S$ and $T$ be found. The Theis equation is clearly non-linear in $t$, but the Cooper-Jacob approximation to it can produce a straight-line plot, since:\n",
    "$$\n",
    "s(u) = -\\frac{Q}{4\\pi T}\\left[\\gamma + \\ln\\left(\\frac{r^2S}{4T}\\right)\\right] + \\frac{Q}{4\\pi T}\\ln t,\n",
    "$$\n",
    "So a plot of $s$ against $\\ln t$ is a straight line with intercept and gradient\n",
    "$$\n",
    "c = -\\frac{Q}{4\\pi T}\\left[\\gamma + \\ln\\left(\\frac{r^2S}{4T}\\right)\\right]\n",
    "\\quad \\mathrm{and}\\quad\n",
    "m = \\frac{Q}{4\\pi T}\n",
    "$$\n",
    "whence,\n",
    "$$\n",
    "T = \\frac{Q}{4\\pi m},\n",
    "\\quad\n",
    "S = \\frac{4T}{r^2}\\exp\\left[-\\left(\\frac{c}{m}+\\gamma\\right)\\right]\n",
    "$$"
   ]
  },
  {
   "cell_type": "markdown",
   "metadata": {},
   "source": [
    "The most straightforward approach is to use NumPy's [`polyfit`](https://docs.scipy.org/doc/numpy/reference/generated/numpy.polyfit.html) routine to fit a first-order polynomial (i.e. a straight line) through the data points $(s_i, \\ln t_i)$:"
   ]
  },
  {
   "cell_type": "code",
   "execution_count": 5,
   "metadata": {},
   "outputs": [
    {
     "data": {
      "image/png": "[encoded data removed]",
      "text/plain": [
       "<Figure size 432x288 with 1 Axes>"
      ]
     },
     "metadata": {
      "needs_background": "light"
     },
     "output_type": "display_data"
    },
    {
     "name": "stdout",
     "output_type": "stream",
     "text": [
      "m = 0.13016475639638475, c = -0.41269296927006316\n",
      "rms residual = 0.06965882008285715\n"
     ]
    }
   ],
   "source": [
    "# fit s, ln(t)\n",
    "lnt = np.log(t)\n",
    "coeffs = np.polyfit(np.log(t), s, 1)\n",
    "# plot the data and the fitted straight line\n",
    "plt.plot(lnt, s, ls='', marker='o')\n",
    "fit_line = np.poly1d(coeffs)(lnt)\n",
    "plt.plot(lnt, fit_line)\n",
    "plt.show()\n",
    "# Output the fitted coefficients and report the rms residual\n",
    "print('m = {}, c = {}'.format(*coeffs))\n",
    "rms_residual = np.sqrt(np.sum((fit_line - s)**2))\n",
    "print('rms residual =', rms_residual)"
   ]
  },
  {
   "cell_type": "markdown",
   "metadata": {},
   "source": [
    "The parameters $S$ and $T$ which best fit the data are found to be as follows:"
   ]
  },
  {
   "cell_type": "code",
   "execution_count": 6,
   "metadata": {},
   "outputs": [
    {
     "name": "stdout",
     "output_type": "stream",
     "text": [
      "S = 6.541e-04\n",
      "T = 1.223e-03 m2/s\n"
     ]
    }
   ],
   "source": [
    "m, c = coeffs\n",
    "def get_S_and_T(m, c):\n",
    "    Tfit = Q / 4 / np.pi / m\n",
    "    Sfit = 4 * Tfit / r**2 * np.exp(-(c/m + np.euler_gamma))\n",
    "    return Sfit, Tfit\n",
    "\n",
    "Sfit, Tfit = get_S_and_T(m,c)\n",
    "print('S = %.3e' %Sfit)\n",
    "print('T = %.3e m2/s' %Tfit)"
   ]
  },
  {
   "cell_type": "markdown",
   "metadata": {},
   "source": [
    "While $T$ seems to fit fairly well to the value we used above, we have a slightly too low value for $S$ (which should be about 0.001). If we look more closely too the line-fit above, we can see that the first values do not fit well. The cause is, that the Cooper-Jacob approximation is only valid for small values of u, i.e. longer times. If we would delete the first four time values we produced above and repeat the line fit, we would see that $S$  fits better (try it!)."
   ]
  },
  {
   "cell_type": "markdown",
   "metadata": {},
   "source": [
    "The same analysis can be performed using [`numpy.linalg.lstsq`](https://docs.scipy.org/doc/numpy/reference/generated/numpy.linalg.lstsq.html) which returns the sum of the square residuals along with other information about the fit:"
   ]
  },
  {
   "cell_type": "code",
   "execution_count": 7,
   "metadata": {},
   "outputs": [
    {
     "name": "stdout",
     "output_type": "stream",
     "text": [
      "S = 6.541e-04\n",
      "T = 1.223e-03 m2/s\n",
      "rms residual = 0.070\n"
     ]
    }
   ],
   "source": [
    "A = np.vstack((lnt, np.ones_like(t))).T\n",
    "x, sq_resid, rank, sing_vals = np.linalg.lstsq(A, s, rcond=None)\n",
    "m, c = x\n",
    "\n",
    "Sfit, Tfit = get_S_and_T(m,c)\n",
    "\n",
    "print('S = %.3e' %Sfit)\n",
    "print('T = %.3e m2/s' %Tfit)\n",
    "print('rms residual = %.3f' %(np.sqrt(sq_resid[0])))"
   ]
  },
  {
   "cell_type": "markdown",
   "metadata": {},
   "source": [
    "### Nonlinear least squares fit\n",
    "\n",
    "The full Theis equation can only be fit with a nonlinear routine such as [`scipy.optimize.curve_fit`](https://docs.scipy.org/doc/scipy-0.18.1/reference/generated/scipy.optimize.curve_fit.html) or [`scipy.optimize import leastsq`](https://docs.scipy.org/doc/scipy-0.18.1/reference/generated/scipy.optimize.leastsq.html). `curve_fit` can fit a function directly; it calls `leastsq` which minimizes the sum of squares of a set of equations: in this context, the residuals between the observed data and modelled $s(t)$."
   ]
  },
  {
   "cell_type": "markdown",
   "metadata": {},
   "source": [
    "#### `curve_fit`\n",
    "\n",
    "`curve_fit` does not need an initial guess for the fit parameters (it sets them equal to 1 if none is provided, which may or may not be appropriate depending on the function). The function to be fit must take the independent variable as its first argument (here, $t$) and the parameters to be fit as the remaining arguments. Since we don't want to fit $Q$ and $r$, we'll define a wrapper function to pick them up in global scope and send them to `theis_drawdown` which requires them."
   ]
  },
  {
   "cell_type": "code",
   "execution_count": 8,
   "metadata": {},
   "outputs": [
    {
     "name": "stdout",
     "output_type": "stream",
     "text": [
      "S = 1.003e-03\n",
      "T = 9.964e-04 m2/s\n",
      "rms residual = 0.014\n"
     ]
    }
   ],
   "source": [
    "from scipy.optimize import curve_fit\n",
    "\n",
    "def theis_func(t, S, T):\n",
    "    return theis_drawdown(t, S, T, Q, r)\n",
    "\n",
    "popt, pcov = curve_fit(theis_func, t, s, maxfev=1000)\n",
    "Sfit, Tfit = popt\n",
    "print('S = %.3e' %Sfit)\n",
    "print('T = %.3e m2/s' %Tfit)\n",
    "theis_fit = theis_drawdown(t, Sfit, Tfit, Q, r)\n",
    "rms_resid = np.sqrt(np.sum((s - theis_fit)**2))\n",
    "print('rms residual = %.3f' %(rms_resid))"
   ]
  },
  {
   "cell_type": "markdown",
   "metadata": {},
   "source": [
    "We see that $S$ and $T$ fit well to the values we used above ($S = 0.001$ and $T = 0.001\\;\\mathrm{m^2/s}$). We can also plot the values along with the fitted Theis-Curve:"
   ]
  },
  {
   "cell_type": "code",
   "execution_count": 9,
   "metadata": {},
   "outputs": [
    {
     "data": {
      "image/png": "[encoded data removed]",
      "text/plain": [
       "<Figure size 432x288 with 1 Axes>"
      ]
     },
     "metadata": {
      "needs_background": "light"
     },
     "output_type": "display_data"
    }
   ],
   "source": [
    "plt.plot(t, s, 'x', label='data')\n",
    "plt.plot(t, theis_fit, label='fit')\n",
    "plt.xlabel(r'$t\\;\\mathrm{(s)}$')\n",
    "plt.ylabel(r'$s\\;\\mathrm{(m)}$')\n",
    "plt.legend(loc=4)\n",
    "plt.show()"
   ]
  },
  {
   "cell_type": "markdown",
   "metadata": {},
   "source": [
    "#### Analysing a real world pumping test\n",
    "\n",
    "If we want to analyse a real world pumping test, we must replace the synthetic data values we created above with the real values, along with the correct pumping rate $Q$ and distance to pumping well $r$. Here is an example (values from excercise a):"
   ]
  },
  {
   "cell_type": "code",
   "execution_count": 10,
   "metadata": {},
   "outputs": [],
   "source": [
    "Q = 0.006       # Pumping rate from well (m3/s)\n",
    "r = 40          # Distance from well (m)\n",
    "t = np.array([10,18,32,57,100,178,316,562,1000,1780,3160,5620,10000])\n",
    "s = np.array([0.005,0.02,0.05,0.09,0.16,0.23,0.31,0.40,0.49,0.58,0.67,0.75,0.82])\n",
    "\n"
   ]
  },
  {
   "cell_type": "markdown",
   "metadata": {},
   "source": [
    "We use the Theis curve fit from above again:"
   ]
  },
  {
   "cell_type": "code",
   "execution_count": 11,
   "metadata": {},
   "outputs": [
    {
     "name": "stdout",
     "output_type": "stream",
     "text": [
      "S = 1.946e-04\n",
      "T = 3.085e-03 m2/s\n",
      "rms residual = 0.025\n"
     ]
    }
   ],
   "source": [
    "from scipy.optimize import curve_fit\n",
    "\n",
    "def theis_func(t, S, T):\n",
    "    return theis_drawdown(t, S, T, Q, r)\n",
    "\n",
    "popt, pcov = curve_fit(theis_func, t, s, maxfev=1000) \n",
    "Sfit, Tfit = popt\n",
    "print('S = %.3e' %Sfit)\n",
    "print('T = %.3e m2/s' %Tfit)\n",
    "\n",
    "theis_fit = theis_drawdown(t, Sfit, Tfit, Q, r)\n",
    "rms_resid = np.sqrt(np.sum((s - theis_fit)**2))\n",
    "print('rms residual = %.3f' %(rms_resid))"
   ]
  },
  {
   "cell_type": "markdown",
   "metadata": {},
   "source": [
    "If we want to compute the reverse way (compute drawdown $s$ for a given time $t$, pumping rate $Q$ and given $S$ and $T$), we just do the same as above when we computed the synthetic values, but without the noise. Here is an example using the values from excercise b:"
   ]
  },
  {
   "cell_type": "code",
   "execution_count": 12,
   "metadata": {},
   "outputs": [
    {
     "name": "stdout",
     "output_type": "stream",
     "text": [
      "s = 2.22 m\n"
     ]
    }
   ],
   "source": [
    "# Given values for Q, r, S and T\n",
    "Q = 0.0053       # Pumping rate from well (m3/s)\n",
    "r = 100          # Distance from well (m)\n",
    "S = 0.0001       # Storage Coefficient\n",
    "T = 0.001        # Transmissivity (m2/s)\n",
    "\n",
    "# Time grid, seconds - we can use only one or several values here, example is 1 day in seconds\n",
    "t = np.array([24*60*60])\n",
    "\n",
    "s = theis_drawdown(t, S, T, Q, r)\n",
    "\n",
    "print('s = %.2f m'  % (s))\n",
    "    "
   ]
  }
 ],
 "metadata": {
  "anaconda-cloud": {},
  "kernelspec": {
   "display_name": "Python 3",
   "language": "python",
   "name": "python3"
  },
  "language_info": {
   "codemirror_mode": {
    "name": "ipython",
    "version": 3
   },
   "file_extension": ".py",
   "mimetype": "text/x-python",
   "name": "python",
   "nbconvert_exporter": "python",
   "pygments_lexer": "ipython3",
   "version": "3.7.7"
  }
 },
 "nbformat": 4,
 "nbformat_minor": 4
}
